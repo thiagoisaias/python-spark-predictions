{
 "cells": [
  {
   "cell_type": "code",
   "execution_count": 4,
   "metadata": {
    "collapsed": false
   },
   "outputs": [
    {
     "data": {
      "text/plain": [
       "PythonRDD[9] at RDD at PythonRDD.scala:48"
      ]
     },
     "execution_count": 4,
     "metadata": {},
     "output_type": "execute_result"
    }
   ],
   "source": [
    "import numpy as np\n",
    "from math import sqrt\n",
    "rawData = sc.textFile(\"./dataset/covertype.data\")\n",
    "\n",
    "parsedData = rawData.map(lambda line: [int(x) for x in line.split(',')])\n",
    "\n",
    "#Features: elevação, aspecto, slope, distancia diagonal da agua, distancia da estrada, hillshade9am,noon,3pm, distancia de foco de incendio, wilderness(1 a 4), soil(1 a 40), cover type(1 a 7)\n",
    "#distancia da agua = distancia diagonal y^2 = a^2 + b^2 (a=dist horizontal, b=dist vertical)\n",
    "\n",
    "def funcao1(line):\n",
    "    newarray = []\n",
    "    qwerty = line[3]**2 + line[4]**2\n",
    "    qwerty = int(sqrt(qwerty))\n",
    "    newarray.extend(line[0:3])\n",
    "    newarray.extend([qwerty])\n",
    "    newarray.extend(line[5:10])\n",
    "    i = 1\n",
    "    for j in range(10,14):\n",
    "        if line[j] == 1:\n",
    "            newarray.extend([i])\n",
    "        else:\n",
    "            i = i + 1\n",
    "    i = 1\n",
    "    for j in range(14,54):\n",
    "        if line[j] == 1:\n",
    "            newarray.extend([i])\n",
    "        else:\n",
    "            i = i + 1\n",
    "    newarray.extend([line[54]])\n",
    "    return newarray\n",
    "        \n",
    "\n",
    "parsedData2 = parsedData.map(funcao1)\n",
    "parsedData2.persist()"
   ]
  },
  {
   "cell_type": "code",
   "execution_count": 5,
   "metadata": {
    "collapsed": false
   },
   "outputs": [
    {
     "name": "stdout",
     "output_type": "stream",
     "text": [
      "[ 0.25127182  0.05012492  0.03702288  0.07308597  0.12692294  0.03927682\n",
      "  0.04282963  0.03936955  0.12075825  0.06273708  0.15660013]\n"
     ]
    }
   ],
   "source": [
    "# Feature Importance\n",
    "#from sklearn import datasets\n",
    "from sklearn import metrics\n",
    "from sklearn.ensemble import ExtraTreesClassifier\n",
    "\n",
    "\n",
    "#Xset = []\n",
    "Xset = parsedData2.map(lambda line: line[:-1])\n",
    "Xset2 = Xset.collect()\n",
    "Yset = parsedData2.map(lambda line: line[-1])\n",
    "Yset2 = Yset.collect()\n",
    "#for line in parsedData2:\n",
    " #   Xset.append(line[:-1])\n",
    "#Yset = []\n",
    "#for line in parsedData2:\n",
    "#    Yset.append(line[-1])\n",
    "\n",
    "#Xset.take(5)\n",
    "#Yset.take(5)\n",
    "# load the iris datasets\n",
    "#dataset = datasets.load_iris()\n",
    "# fit an Extra Trees model to the data\n",
    "model = ExtraTreesClassifier()\n",
    "model.fit(Xset2, Yset2)\n",
    "# display the relative importance of each attribute\n",
    "print(model.feature_importances_)\n",
    "#porcentagem de importancia de cada feature"
   ]
  },
  {
   "cell_type": "code",
   "execution_count": 3,
   "metadata": {
    "collapsed": false
   },
   "outputs": [
    {
     "data": {
      "text/plain": [
       "PythonRDD[7] at RDD at PythonRDD.scala:43"
      ]
     },
     "execution_count": 3,
     "metadata": {},
     "output_type": "execute_result"
    }
   ],
   "source": [
    "#+9% = 1,5,9,11 (1,6,10+info do solo)\n",
    "#Features importantes: elevação, distancia da estrada, distancia de foco de incendio, tipo de solo\n",
    "\n",
    "import numpy as np\n",
    "from math import sqrt\n",
    "rawData = sc.textFile(\"*.csv\")\n",
    "\n",
    "parsedData3 = rawData.map(lambda line: [int(x) for x in line.split(',')])\n",
    "\n",
    "def funcao1(line):\n",
    "    newarray = []\n",
    "    #qwerty = line[3]**2 + line[4]**2\n",
    "    #qwerty = int(sqrt(qwerty))\n",
    "    newarray.extend(line[0],line[5],line[9])\n",
    "    #newarray.extend([qwerty])\n",
    "    #newarray.extend(line[5:10])\n",
    "    #i = 1\n",
    "    #for j in range(10,14):\n",
    "    #    if line[j] == 1:\n",
    "    #        newarray.extend([i])\n",
    "    #    else:\n",
    "    #        i = i + 1\n",
    "    i = 1\n",
    "    for j in range(14,54):\n",
    "        if line[j] == 1:\n",
    "            newarray.extend([i])\n",
    "        else:\n",
    "            i = i + 1\n",
    "    newarray.extend([line[54]])\n",
    "    return newarray\n",
    "        \n",
    "\n",
    "parsedData4 = parsedData3.map(funcao1)\n",
    "parsedData4.persist()"
   ]
  },
  {
   "cell_type": "code",
   "execution_count": 2,
   "metadata": {
    "collapsed": false
   },
   "outputs": [
    {
     "name": "stdout",
     "output_type": "stream",
     "text": [
      "[  1.85910218e-01   5.53313400e-02   4.05772141e-02   7.12719734e-02\n",
      "   6.81264738e-02   1.39029933e-01   4.62131116e-02   4.92911229e-02\n",
      "   4.71275376e-02   1.17642663e-01   2.69486495e-02   8.25432811e-04\n",
      "   1.39447101e-02   2.39402218e-02   2.63576333e-04   1.39869403e-03\n",
      "   5.33249312e-03   3.02439812e-03   2.44926545e-04   5.35547413e-04\n",
      "   2.08319041e-04   1.62227291e-04   4.83070148e-04   8.07179033e-03\n",
      "   7.76131323e-04   2.50027135e-02   1.41892833e-03   3.92135980e-04\n",
      "   0.00000000e+00   1.94585712e-03   3.29449276e-03   9.14619759e-04\n",
      "   2.87988411e-03   3.18804179e-03   7.26382404e-05   8.12852292e-03\n",
      "   6.99461534e-03   1.78575680e-03   3.26030462e-06   1.21067340e-04\n",
      "   4.72429499e-05   2.59908968e-05   7.97364663e-03   6.72132252e-03\n",
      "   5.27813677e-04   9.79327056e-04   7.08495151e-04   6.89881474e-05\n",
      "   6.36763509e-04   2.28115220e-05   2.42334492e-04   6.27172831e-03\n",
      "   7.45849262e-03   5.49073222e-03]\n"
     ]
    }
   ],
   "source": [
    "#feature importance das 54 features\n",
    "import numpy as np\n",
    "from math import sqrt\n",
    "from sklearn import metrics\n",
    "from sklearn.ensemble import ExtraTreesClassifier\n",
    "rawData = sc.textFile(\"output_1.csv\")\n",
    "\n",
    "parsedData5 = rawData.map(lambda line: [int(x) for x in line.split(',')])\n",
    "\n",
    "parsedData5.persist()\n",
    "\n",
    "Xset = parsedData5.map(lambda line: line[:-1])\n",
    "Xset2 = Xset.collect()\n",
    "Yset = parsedData5.map(lambda line: line[-1])\n",
    "Yset2 = Yset.collect()\n",
    "\n",
    "model = ExtraTreesClassifier()\n",
    "model.fit(Xset2, Yset2)\n",
    "\n",
    "print(model.feature_importances_)"
   ]
  },
  {
   "cell_type": "code",
   "execution_count": null,
   "metadata": {
    "collapsed": true
   },
   "outputs": [],
   "source": []
  }
 ],
 "metadata": {
  "kernelspec": {
   "display_name": "Pyspark (Py 2)",
   "language": "",
   "name": "pyspark"
  },
  "language_info": {
   "codemirror_mode": {
    "name": "ipython",
    "version": 2
   },
   "file_extension": ".py",
   "mimetype": "text/x-python",
   "name": "python",
   "nbconvert_exporter": "python",
   "pygments_lexer": "ipython2",
   "version": "2.7.5"
  }
 },
 "nbformat": 4,
 "nbformat_minor": 1
}
